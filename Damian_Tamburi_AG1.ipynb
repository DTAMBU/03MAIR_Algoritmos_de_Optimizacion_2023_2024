{
  "nbformat": 4,
  "nbformat_minor": 0,
  "metadata": {
    "colab": {
      "provenance": [],
      "authorship_tag": "ABX9TyNjbZXXoN71VmzJ4o1BxS10",
      "include_colab_link": true
    },
    "kernelspec": {
      "name": "python3",
      "display_name": "Python 3"
    },
    "language_info": {
      "name": "python"
    }
  },
  "cells": [
    {
      "cell_type": "markdown",
      "metadata": {
        "id": "view-in-github",
        "colab_type": "text"
      },
      "source": [
        "<a href=\"https://colab.research.google.com/github/DTAMBU/03MAIR_Algoritmos_de_Optimizacion_2023_2024/blob/main/Damian_Tamburi_AG1.ipynb\" target=\"_parent\"><img src=\"https://colab.research.google.com/assets/colab-badge.svg\" alt=\"Open In Colab\"/></a>"
      ]
    },
    {
      "cell_type": "markdown",
      "source": [
        "#Actividad Guiada 1 de Algoritmos de Optimizacion\n",
        "\n",
        "Nombre: Damian Tamburi\n",
        "\n",
        "https://colab.research.google.com/drive/1BqQfMbb32udSXdeoSqCsOOArGIMRxgsz?usp=sharing\n",
        "https://github.com/DTAMBU/03MAIR_Algoritmos_de_Optimizacion_2023_2024/blob/main/Damian_Tamburi_AG1.ipynb"
      ],
      "metadata": {
        "id": "DoBYchNuSO5d"
      }
    },
    {
      "cell_type": "markdown",
      "source": [
        "##Torres de Hanoi - Divide y venceras"
      ],
      "metadata": {
        "id": "vQWtBM_5mspP"
      }
    },
    {
      "cell_type": "code",
      "metadata": {
        "id": "rTiqLuX2ZKuL",
        "outputId": "f50967d3-cd4c-42a5-b86b-5c3899003a29",
        "colab": {
          "base_uri": "https://localhost:8080/"
        }
      },
      "source": [
        "#Torres de Hanoi - Divide y venceras\n",
        "################################################################################\n",
        "\n",
        "\n",
        "################################################################\n",
        "def Torres_Hanoi(N, desde, hasta):\n",
        "  #N - Nº de fichas\n",
        "  #desde - torre inicial\n",
        "  #hasta - torre fina\n",
        "  if N==1 :\n",
        "    print(\"Lleva la ficha desde \" + str(desde) + \" hasta \" + str(hasta))\n",
        "\n",
        "  else:\n",
        "    Torres_Hanoi(N-1, desde, 6-desde-hasta)\n",
        "    print(\"Lleva la ficha desde \" + str(desde) + \" hasta \" + str(hasta))\n",
        "    Torres_Hanoi(N-1, 6-desde-hasta,  hasta)\n",
        "\n",
        "Torres_Hanoi(5, 1, 3)\n",
        "################################################################"
      ],
      "execution_count": 2,
      "outputs": [
        {
          "output_type": "stream",
          "name": "stdout",
          "text": [
            "Lleva la ficha desde 1 hasta 3\n",
            "Lleva la ficha desde 1 hasta 2\n",
            "Lleva la ficha desde 3 hasta 2\n",
            "Lleva la ficha desde 1 hasta 3\n",
            "Lleva la ficha desde 2 hasta 1\n",
            "Lleva la ficha desde 2 hasta 3\n",
            "Lleva la ficha desde 1 hasta 3\n",
            "Lleva la ficha desde 1 hasta 2\n",
            "Lleva la ficha desde 3 hasta 2\n",
            "Lleva la ficha desde 3 hasta 1\n",
            "Lleva la ficha desde 2 hasta 1\n",
            "Lleva la ficha desde 3 hasta 2\n",
            "Lleva la ficha desde 1 hasta 3\n",
            "Lleva la ficha desde 1 hasta 2\n",
            "Lleva la ficha desde 3 hasta 2\n",
            "Lleva la ficha desde 1 hasta 3\n",
            "Lleva la ficha desde 2 hasta 1\n",
            "Lleva la ficha desde 2 hasta 3\n",
            "Lleva la ficha desde 1 hasta 3\n",
            "Lleva la ficha desde 2 hasta 1\n",
            "Lleva la ficha desde 3 hasta 2\n",
            "Lleva la ficha desde 3 hasta 1\n",
            "Lleva la ficha desde 2 hasta 1\n",
            "Lleva la ficha desde 2 hasta 3\n",
            "Lleva la ficha desde 1 hasta 3\n",
            "Lleva la ficha desde 1 hasta 2\n",
            "Lleva la ficha desde 3 hasta 2\n",
            "Lleva la ficha desde 1 hasta 3\n",
            "Lleva la ficha desde 2 hasta 1\n",
            "Lleva la ficha desde 2 hasta 3\n",
            "Lleva la ficha desde 1 hasta 3\n"
          ]
        }
      ]
    },
    {
      "cell_type": "markdown",
      "source": [
        "##Cambio de monedas - Técnica voraz"
      ],
      "metadata": {
        "id": "_C2STMU4m3hN"
      }
    },
    {
      "cell_type": "code",
      "metadata": {
        "id": "YwBudj2hYoMR",
        "colab": {
          "base_uri": "https://localhost:8080/"
        },
        "outputId": "13c9e040-0f68-4fdf-ac3e-06c423c6105a"
      },
      "source": [
        "#Cambio de monedas - Técnica voraz\n",
        "################################################################################\n",
        "SISTEMA = [11, 5 ,  1  ]\n",
        "################################################################\n",
        "def cambio_monedas(CANTIDAD,SISTEMA):\n",
        "#....\n",
        "  SOLUCION = [0]*len(SISTEMA)\n",
        "  ValorAcumulado = 0\n",
        "\n",
        "  for i,valor in enumerate(SISTEMA):\n",
        "    monedas = (CANTIDAD-ValorAcumulado)//valor\n",
        "    SOLUCION[i] = monedas\n",
        "    ValorAcumulado = ValorAcumulado + monedas*valor\n",
        "\n",
        "    if CANTIDAD == ValorAcumulado:\n",
        "      return SOLUCION\n",
        "\n",
        "  print(\"No es posible encontrar solucion\")\n",
        "\n",
        "cambio_monedas(15,SISTEMA)\n",
        "\n",
        "\n",
        "################################################################"
      ],
      "execution_count": 3,
      "outputs": [
        {
          "output_type": "execute_result",
          "data": {
            "text/plain": [
              "[1, 0, 4]"
            ]
          },
          "metadata": {},
          "execution_count": 3
        }
      ]
    },
    {
      "cell_type": "markdown",
      "source": [
        "##N Reinas - Vuelta Atrás"
      ],
      "metadata": {
        "id": "FrCapoXOm-Cg"
      }
    },
    {
      "cell_type": "code",
      "metadata": {
        "id": "H4Iwt2XRZTFr",
        "colab": {
          "base_uri": "https://localhost:8080/"
        },
        "outputId": "c1d5458d-9a46-476a-8475-2773e4ec3f36"
      },
      "source": [
        "#N Reinas - Vuelta Atrás()\n",
        "################################################################################\n",
        "\n",
        "#Verifica que en la solución parcial no hay amenzas entre reinas\n",
        "################################################################\n",
        "def es_prometedora(SOLUCION,etapa):\n",
        "################################################################\n",
        "  #print(SOLUCION)\n",
        "  #Si la solución tiene dos valores iguales no es valida => Dos reinas en la misma fila\n",
        "  for i in range(etapa+1):\n",
        "    #print(\"El valor \" + str(SOLUCION[i]) + \" está \" +  str(SOLUCION.count(SOLUCION[i])) + \" veces\")\n",
        "    if SOLUCION.count(SOLUCION[i]) > 1:\n",
        "      return False\n",
        "\n",
        "    #Verifica las diagonales\n",
        "    for j in range(i+1, etapa +1 ):\n",
        "      #print(\"Comprobando diagonal de \" + str(i) + \" y \" + str(j))\n",
        "      if abs(i-j) == abs(SOLUCION[i]-SOLUCION[j]) : return False\n",
        "  return True\n",
        "\n",
        "#Traduce la solución al tablero\n",
        "################################################################\n",
        "def escribe_solucion(S):\n",
        "################################################################\n",
        "  n = len(S)\n",
        "  for x in range(n):\n",
        "    print(\"\")\n",
        "    for i in range(n):\n",
        "      if S[i] == x+1:\n",
        "        print(\" X \" , end=\"\")\n",
        "      else:\n",
        "        print(\" - \", end=\"\")\n",
        "\n",
        "\n",
        "\n",
        "#Proceso principal de N-Reinas\n",
        "################################################################\n",
        "def reinas(N, solucion=[],etapa=0):\n",
        "################################################################\n",
        "### ....\n",
        "  if len(solucion) == 0:         # [0,0,0...]\n",
        "    solucion = [0 for i in range(N) ]\n",
        "\n",
        "  for i in range(1, N+1):\n",
        "    solucion[etapa] = i\n",
        "    if es_prometedora(solucion, etapa):\n",
        "      if etapa == N-1:\n",
        "        print(solucion)\n",
        "      else:\n",
        "        reinas(N, solucion, etapa+1)\n",
        "    else:\n",
        "      None\n",
        "\n",
        "  solucion[etapa] = 0\n",
        "\n",
        "reinas(8,solucion=[],etapa=0)"
      ],
      "execution_count": 4,
      "outputs": [
        {
          "output_type": "stream",
          "name": "stdout",
          "text": [
            "[1, 5, 8, 6, 3, 7, 2, 4]\n",
            "[1, 6, 8, 3, 7, 4, 2, 5]\n",
            "[1, 7, 4, 6, 8, 2, 5, 3]\n",
            "[1, 7, 5, 8, 2, 4, 6, 3]\n",
            "[2, 4, 6, 8, 3, 1, 7, 5]\n",
            "[2, 5, 7, 1, 3, 8, 6, 4]\n",
            "[2, 5, 7, 4, 1, 8, 6, 3]\n",
            "[2, 6, 1, 7, 4, 8, 3, 5]\n",
            "[2, 6, 8, 3, 1, 4, 7, 5]\n",
            "[2, 7, 3, 6, 8, 5, 1, 4]\n",
            "[2, 7, 5, 8, 1, 4, 6, 3]\n",
            "[2, 8, 6, 1, 3, 5, 7, 4]\n",
            "[3, 1, 7, 5, 8, 2, 4, 6]\n",
            "[3, 5, 2, 8, 1, 7, 4, 6]\n",
            "[3, 5, 2, 8, 6, 4, 7, 1]\n",
            "[3, 5, 7, 1, 4, 2, 8, 6]\n",
            "[3, 5, 8, 4, 1, 7, 2, 6]\n",
            "[3, 6, 2, 5, 8, 1, 7, 4]\n",
            "[3, 6, 2, 7, 1, 4, 8, 5]\n",
            "[3, 6, 2, 7, 5, 1, 8, 4]\n",
            "[3, 6, 4, 1, 8, 5, 7, 2]\n",
            "[3, 6, 4, 2, 8, 5, 7, 1]\n",
            "[3, 6, 8, 1, 4, 7, 5, 2]\n",
            "[3, 6, 8, 1, 5, 7, 2, 4]\n",
            "[3, 6, 8, 2, 4, 1, 7, 5]\n",
            "[3, 7, 2, 8, 5, 1, 4, 6]\n",
            "[3, 7, 2, 8, 6, 4, 1, 5]\n",
            "[3, 8, 4, 7, 1, 6, 2, 5]\n",
            "[4, 1, 5, 8, 2, 7, 3, 6]\n",
            "[4, 1, 5, 8, 6, 3, 7, 2]\n",
            "[4, 2, 5, 8, 6, 1, 3, 7]\n",
            "[4, 2, 7, 3, 6, 8, 1, 5]\n",
            "[4, 2, 7, 3, 6, 8, 5, 1]\n",
            "[4, 2, 7, 5, 1, 8, 6, 3]\n",
            "[4, 2, 8, 5, 7, 1, 3, 6]\n",
            "[4, 2, 8, 6, 1, 3, 5, 7]\n",
            "[4, 6, 1, 5, 2, 8, 3, 7]\n",
            "[4, 6, 8, 2, 7, 1, 3, 5]\n",
            "[4, 6, 8, 3, 1, 7, 5, 2]\n",
            "[4, 7, 1, 8, 5, 2, 6, 3]\n",
            "[4, 7, 3, 8, 2, 5, 1, 6]\n",
            "[4, 7, 5, 2, 6, 1, 3, 8]\n",
            "[4, 7, 5, 3, 1, 6, 8, 2]\n",
            "[4, 8, 1, 3, 6, 2, 7, 5]\n",
            "[4, 8, 1, 5, 7, 2, 6, 3]\n",
            "[4, 8, 5, 3, 1, 7, 2, 6]\n",
            "[5, 1, 4, 6, 8, 2, 7, 3]\n",
            "[5, 1, 8, 4, 2, 7, 3, 6]\n",
            "[5, 1, 8, 6, 3, 7, 2, 4]\n",
            "[5, 2, 4, 6, 8, 3, 1, 7]\n",
            "[5, 2, 4, 7, 3, 8, 6, 1]\n",
            "[5, 2, 6, 1, 7, 4, 8, 3]\n",
            "[5, 2, 8, 1, 4, 7, 3, 6]\n",
            "[5, 3, 1, 6, 8, 2, 4, 7]\n",
            "[5, 3, 1, 7, 2, 8, 6, 4]\n",
            "[5, 3, 8, 4, 7, 1, 6, 2]\n",
            "[5, 7, 1, 3, 8, 6, 4, 2]\n",
            "[5, 7, 1, 4, 2, 8, 6, 3]\n",
            "[5, 7, 2, 4, 8, 1, 3, 6]\n",
            "[5, 7, 2, 6, 3, 1, 4, 8]\n",
            "[5, 7, 2, 6, 3, 1, 8, 4]\n",
            "[5, 7, 4, 1, 3, 8, 6, 2]\n",
            "[5, 8, 4, 1, 3, 6, 2, 7]\n",
            "[5, 8, 4, 1, 7, 2, 6, 3]\n",
            "[6, 1, 5, 2, 8, 3, 7, 4]\n",
            "[6, 2, 7, 1, 3, 5, 8, 4]\n",
            "[6, 2, 7, 1, 4, 8, 5, 3]\n",
            "[6, 3, 1, 7, 5, 8, 2, 4]\n",
            "[6, 3, 1, 8, 4, 2, 7, 5]\n",
            "[6, 3, 1, 8, 5, 2, 4, 7]\n",
            "[6, 3, 5, 7, 1, 4, 2, 8]\n",
            "[6, 3, 5, 8, 1, 4, 2, 7]\n",
            "[6, 3, 7, 2, 4, 8, 1, 5]\n",
            "[6, 3, 7, 2, 8, 5, 1, 4]\n",
            "[6, 3, 7, 4, 1, 8, 2, 5]\n",
            "[6, 4, 1, 5, 8, 2, 7, 3]\n",
            "[6, 4, 2, 8, 5, 7, 1, 3]\n",
            "[6, 4, 7, 1, 3, 5, 2, 8]\n",
            "[6, 4, 7, 1, 8, 2, 5, 3]\n",
            "[6, 8, 2, 4, 1, 7, 5, 3]\n",
            "[7, 1, 3, 8, 6, 4, 2, 5]\n",
            "[7, 2, 4, 1, 8, 5, 3, 6]\n",
            "[7, 2, 6, 3, 1, 4, 8, 5]\n",
            "[7, 3, 1, 6, 8, 5, 2, 4]\n",
            "[7, 3, 8, 2, 5, 1, 6, 4]\n",
            "[7, 4, 2, 5, 8, 1, 3, 6]\n",
            "[7, 4, 2, 8, 6, 1, 3, 5]\n",
            "[7, 5, 3, 1, 6, 8, 2, 4]\n",
            "[8, 2, 4, 1, 7, 5, 3, 6]\n",
            "[8, 2, 5, 3, 1, 7, 4, 6]\n",
            "[8, 3, 1, 6, 2, 5, 7, 4]\n",
            "[8, 4, 1, 3, 6, 2, 7, 5]\n"
          ]
        }
      ]
    },
    {
      "cell_type": "code",
      "metadata": {
        "id": "eTZclKH9QV0R",
        "colab": {
          "base_uri": "https://localhost:8080/"
        },
        "outputId": "f9b38d68-312d-4fb0-e2b2-3cbed3f83188"
      },
      "source": [
        "escribe_solucion([1, 5, 8, 6, 3, 7, 2, 4])"
      ],
      "execution_count": 5,
      "outputs": [
        {
          "output_type": "stream",
          "name": "stdout",
          "text": [
            "\n",
            " X  -  -  -  -  -  -  - \n",
            " -  -  -  -  -  -  X  - \n",
            " -  -  -  -  X  -  -  - \n",
            " -  -  -  -  -  -  -  X \n",
            " -  X  -  -  -  -  -  - \n",
            " -  -  -  X  -  -  -  - \n",
            " -  -  -  -  -  X  -  - \n",
            " -  -  X  -  -  -  -  - "
          ]
        }
      ]
    },
    {
      "cell_type": "markdown",
      "source": [
        "##Viaje por el rio - Programación dinámica"
      ],
      "metadata": {
        "id": "MNJGOrAnnDHV"
      }
    },
    {
      "cell_type": "code",
      "metadata": {
        "id": "TocxR55dQWq5",
        "outputId": "8b09f3e5-d6e5-4364-e631-434ebfbe4b52",
        "colab": {
          "base_uri": "https://localhost:8080/",
          "height": 375
        }
      },
      "source": [
        "#Viaje por el rio - Programación dinámica\n",
        "################################################################################\n",
        "\n",
        "TARIFAS = [\n",
        "[0,5,4,3,999,999,999],\n",
        "[999,0,999,2,3,999,11],\n",
        "[999,999, 0,1,999,4,10],\n",
        "[999,999,999, 0,5,6,9],\n",
        "[999,999, 999,999,0,999,4],\n",
        "[999,999, 999,999,999,0,3],\n",
        "[999,999,999,999,999,999,0]\n",
        "]\n",
        "\n",
        "#999 se puede sustituir por float(\"inf\")\n",
        "\n",
        "\n",
        "#Calculo de la matriz de PRECIOS y RUTAS\n",
        "################################################################\n",
        "def Precios(TARIFAS):\n",
        "################################################################\n",
        "  #Total de Nodos\n",
        "  N = len(TARIFAS[0])\n",
        "\n",
        "  #Inicialización de la tabla de precios\n",
        "  PRECIOS = [ [9999]*N for i in [9999]*N]\n",
        "  RUTA = [ [\"\"]*N for i in [\"\"]*N]\n",
        "\n",
        "  for i in range(0,N-1):\n",
        "    RUTA[i][i] = i             #Para ir de i a i se \"pasa por i\"\n",
        "    PRECIOS[i][i] = 0          #Para ir de i a i se se paga 0\n",
        "    for j in range(i+1, N):\n",
        "      MIN = TARIFAS[i][j]\n",
        "      RUTA[i][j] = i\n",
        "\n",
        "      for k in range(i, j):\n",
        "        if PRECIOS[i][k] + TARIFAS[k][j] < MIN:\n",
        "            MIN = min(MIN, PRECIOS[i][k] + TARIFAS[k][j] )\n",
        "            RUTA[i][j] = k          #Anota que para ir de i a j hay que pasar por k\n",
        "        PRECIOS[i][j] = MIN\n",
        "\n",
        "  return PRECIOS,RUTA\n",
        "################################################################\n",
        "\n",
        "PRECIOS,RUTA = Precios(TARIFAS)\n",
        "#print(PRECIOS[0][6])\n",
        "\n",
        "print(\"PRECIOS\")\n",
        "for i in range(len(TARIFAS)):\n",
        "  print(PRECIOS[i])\n",
        "\n",
        "print(\"\\nRUTA\")\n",
        "for i in range(len(TARIFAS)):\n",
        "  print(RUTA[i])\n",
        "\n",
        "#Determinar la ruta con Recursividad\n",
        "def calcular_ruta(RUTA, desde, hasta):\n",
        "  if desde == hasta:\n",
        "    #print(\"Ir a :\" + str(desde))\n",
        "    return \"\"\n",
        "  else:\n",
        "    return str(calcular_ruta( RUTA, desde, RUTA[desde][hasta])) +  \\\n",
        "                ',' + \\\n",
        "                str(RUTA[desde][hasta] \\\n",
        "              )\n",
        "\n",
        "print(\"\\nLa ruta es:\")\n",
        "calcular_ruta(RUTA, 0,6)"
      ],
      "execution_count": 6,
      "outputs": [
        {
          "output_type": "stream",
          "name": "stdout",
          "text": [
            "PRECIOS\n",
            "[0, 5, 4, 3, 8, 8, 11]\n",
            "[9999, 0, 999, 2, 3, 8, 7]\n",
            "[9999, 9999, 0, 1, 6, 4, 7]\n",
            "[9999, 9999, 9999, 0, 5, 6, 9]\n",
            "[9999, 9999, 9999, 9999, 0, 999, 4]\n",
            "[9999, 9999, 9999, 9999, 9999, 0, 3]\n",
            "[9999, 9999, 9999, 9999, 9999, 9999, 9999]\n",
            "\n",
            "RUTA\n",
            "[0, 0, 0, 0, 1, 2, 5]\n",
            "['', 1, 1, 1, 1, 3, 4]\n",
            "['', '', 2, 2, 3, 2, 5]\n",
            "['', '', '', 3, 3, 3, 3]\n",
            "['', '', '', '', 4, 4, 4]\n",
            "['', '', '', '', '', 5, 5]\n",
            "['', '', '', '', '', '', '']\n",
            "\n",
            "La ruta es:\n"
          ]
        },
        {
          "output_type": "execute_result",
          "data": {
            "text/plain": [
              "',0,2,5'"
            ],
            "application/vnd.google.colaboratory.intrinsic+json": {
              "type": "string"
            }
          },
          "metadata": {},
          "execution_count": 6
        }
      ]
    },
    {
      "cell_type": "markdown",
      "source": [
        "##Encontrar los puntos mas cercanos"
      ],
      "metadata": {
        "id": "53XTvqfmnNPl"
      }
    },
    {
      "cell_type": "code",
      "source": [
        "import random\n",
        "import time\n",
        "\n",
        "#LISTA_1D = [random.randrange(1,10000) for x in range(1000)]\n",
        "LISTA_1D = random.sample(range(1, 10000), 1000)   # usando sample no se generan puntos repetidos\n",
        "LISTA_2D = [(random.randrange(1,10000),random.randrange(1,10000)) for x in range(1000)]\n",
        "LISTA_3D = [(random.randrange(1,10000), random.randrange(1,10000), random.randrange(1,10000)) for x in range(1000)]"
      ],
      "metadata": {
        "id": "c61p5wDINyVa"
      },
      "execution_count": 1,
      "outputs": []
    },
    {
      "cell_type": "code",
      "source": [
        "def fuerza_bruta_1d(puntos):\n",
        "    puntos = sorted(puntos)\n",
        "    n = len(puntos)\n",
        "    distancia_minima = float('inf')\n",
        "    puntos_cercanos = None\n",
        "\n",
        "    for i in range(n - 1):\n",
        "        for j in range(i + 1, n):\n",
        "            distancia_actual = abs(puntos[i] - puntos[j])\n",
        "            if distancia_actual < distancia_minima:\n",
        "                distancia_minima = distancia_actual\n",
        "                puntos_cercanos = (puntos[i], puntos[j])\n",
        "\n",
        "    return puntos_cercanos\n",
        "\n",
        "resultado = fuerza_bruta_1d(LISTA_1D)\n",
        "print(\"Closest points:\", resultado)"
      ],
      "metadata": {
        "id": "m7jJrjsVN4Lv",
        "colab": {
          "base_uri": "https://localhost:8080/"
        },
        "outputId": "8d973cbe-c46d-4426-d146-ce8f36e756b3"
      },
      "execution_count": 7,
      "outputs": [
        {
          "output_type": "stream",
          "name": "stdout",
          "text": [
            "Closest points: (41, 42)\n"
          ]
        }
      ]
    },
    {
      "cell_type": "code",
      "source": [
        "def fuerza_bruta_2d(puntos):\n",
        "    n = len(puntos)\n",
        "    distancia_minima = float('inf')\n",
        "    puntos_cercanos = None\n",
        "\n",
        "    for i in range(n - 1):\n",
        "        for j in range(i + 1, n):\n",
        "            distancia_actual = ((puntos[i][0] - puntos[j][0])**2 + (puntos[i][1] - puntos[j][1])**2)**0.5\n",
        "            if distancia_actual < distancia_minima:\n",
        "                distancia_minima = distancia_actual\n",
        "                puntos_cercanos = (puntos[i], puntos[j])\n",
        "\n",
        "    return puntos_cercanos\n",
        "\n",
        "resultado = fuerza_bruta_2d(LISTA_2D)\n",
        "print(\"Closest points:\", resultado)"
      ],
      "metadata": {
        "colab": {
          "base_uri": "https://localhost:8080/"
        },
        "id": "iDqDYc6sY7-j",
        "outputId": "4019a483-26f8-478f-f1df-e9b3b648f79a"
      },
      "execution_count": 8,
      "outputs": [
        {
          "output_type": "stream",
          "name": "stdout",
          "text": [
            "Closest points: ((4808, 3023), (4811, 3033))\n"
          ]
        }
      ]
    },
    {
      "cell_type": "code",
      "source": [
        "def fuerza_bruta_3d(puntos):\n",
        "    n = len(puntos)\n",
        "    distancia_minima = float('inf')\n",
        "    puntos_cercanos = None\n",
        "\n",
        "    for i in range(n - 1):\n",
        "        for j in range(i + 1, n):\n",
        "            distancia_actual = ((puntos[i][0] - puntos[j][0])**2 + (puntos[i][1] - puntos[j][1])**2 + (puntos[i][2] - puntos[j][2])**2)**0.5\n",
        "            if distancia_actual < distancia_minima:\n",
        "                distancia_minima = distancia_actual\n",
        "                puntos_cercanos = (puntos[i], puntos[j])\n",
        "\n",
        "    return puntos_cercanos\n",
        "\n",
        "start_time = time.time()\n",
        "resultado = fuerza_bruta_3d(LISTA_3D)\n",
        "end_time = time.time()\n",
        "print(\"Time taken: \", end_time - start_time, \"seconds\")\n",
        "print(\"Closest points:\", resultado)"
      ],
      "metadata": {
        "colab": {
          "base_uri": "https://localhost:8080/"
        },
        "id": "u3xW0KhvZCEj",
        "outputId": "d85b3d76-9401-4ff9-bc68-6b8f1af3da2f"
      },
      "execution_count": 9,
      "outputs": [
        {
          "output_type": "stream",
          "name": "stdout",
          "text": [
            "Time taken:  0.7501907348632812 seconds\n",
            "Closest points: ((3376, 6452, 1750), (3294, 6415, 1728))\n"
          ]
        }
      ]
    },
    {
      "cell_type": "code",
      "source": [
        "def divide_y_venceras_1d(puntos):\n",
        "    puntos = sorted(puntos)\n",
        "    n = len(puntos)\n",
        "    if n <= 2:\n",
        "        return puntos\n",
        "\n",
        "    mid = n // 2\n",
        "    left = divide_y_venceras_1d(puntos[:mid])\n",
        "    right = divide_y_venceras_1d(puntos[mid:])\n",
        "\n",
        "    d_left = abs(left[1] - left[0]) if len(left) == 2 else float('inf')\n",
        "    d_right = abs(right[1] - right[0]) if len(right) == 2 else float('inf')\n",
        "    d_cross = abs(puntos[mid-1] - puntos[mid])\n",
        "\n",
        "    if d_left <= min(d_right, d_cross):\n",
        "        return left\n",
        "    elif d_right <= min(d_left, d_cross):\n",
        "        return right\n",
        "    else:\n",
        "        return puntos[mid-1:mid+1]\n",
        "\n",
        "resultado = divide_y_venceras_1d(LISTA_1D)\n",
        "print(\"Closest points:\", resultado)"
      ],
      "metadata": {
        "id": "AO1I33ZIN5K2",
        "colab": {
          "base_uri": "https://localhost:8080/"
        },
        "outputId": "118f5d06-8ec0-4528-b447-68c2696bcf63"
      },
      "execution_count": 10,
      "outputs": [
        {
          "output_type": "stream",
          "name": "stdout",
          "text": [
            "Closest points: [41, 42]\n"
          ]
        }
      ]
    },
    {
      "cell_type": "code",
      "source": [
        "def divide_y_venceras_2d(points):\n",
        "    points = sorted(points, key=lambda x: x[0])\n",
        "    n = len(points)\n",
        "    if n <= 2:\n",
        "        return points\n",
        "\n",
        "    mid = n // 2\n",
        "    left = divide_y_venceras_2d(points[:mid])\n",
        "    right = divide_y_venceras_2d(points[mid:])\n",
        "\n",
        "    d_left = ((left[0][0] - left[1][0])**2 + (left[0][1] - left[1][1])**2)**0.5 if len(left) == 2 else float('inf')\n",
        "    d_right = ((right[0][0] - right[1][0])**2 + (right[0][1] - right[1][1])**2)**0.5 if len(right) == 2 else float('inf')\n",
        "    d_cross = ((points[mid-1][0] - points[mid][0])**2 + (points[mid-1][1] - points[mid][1])**2)**0.5\n",
        "\n",
        "    if d_left <= min(d_right, d_cross):\n",
        "        return left\n",
        "    elif d_right <= min(d_left, d_cross):\n",
        "        return right\n",
        "    else:\n",
        "        return points[mid-1:mid+1]\n",
        "\n",
        "resultado = divide_y_venceras_2d(LISTA_2D)\n",
        "print(\"Closest points:\", resultado)"
      ],
      "metadata": {
        "colab": {
          "base_uri": "https://localhost:8080/"
        },
        "id": "9rrGi3g7cNP8",
        "outputId": "fafb4b6e-4c4d-4da1-c361-93258ac24567"
      },
      "execution_count": 11,
      "outputs": [
        {
          "output_type": "stream",
          "name": "stdout",
          "text": [
            "Closest points: [(4808, 3023), (4811, 3033)]\n"
          ]
        }
      ]
    },
    {
      "cell_type": "code",
      "source": [
        "def divide_y_venceras_3d(points):\n",
        "    points = sorted(points, key=lambda x: x[0])\n",
        "    n = len(points)\n",
        "    if n <= 2:\n",
        "        return points\n",
        "\n",
        "    mid = n // 2\n",
        "    left = divide_y_venceras_3d(points[:mid])\n",
        "    right = divide_y_venceras_3d(points[mid:])\n",
        "\n",
        "    d_left = ((left[0][0] - left[1][0])**2 + (left[0][1] - left[1][1])**2 + (left[0][2] - left[1][2])**2)**0.5 if len(left) == 2 else float('inf')\n",
        "    d_right = ((right[0][0] - right[1][0])**2 + (right[0][1] - right[1][1])**2 + (right[0][2] - right[1][2])**2)**0.5 if len(right) == 2 else float('inf')\n",
        "    d_cross = ((points[mid-1][0] - points[mid][0])**2 + (points[mid-1][1] - points[mid][1])**2 + (points[mid-1][2] - points[mid][2])**2)**0.5\n",
        "\n",
        "    if d_left <= min(d_right, d_cross):\n",
        "        return left\n",
        "    elif d_right <= min(d_left, d_cross):\n",
        "        return right\n",
        "    else:\n",
        "        return points[mid-1:mid+1]\n",
        "\n",
        "start_time = time.time()\n",
        "resultado = divide_y_venceras_3d(LISTA_3D)\n",
        "end_time = time.time()\n",
        "print(\"Time taken: \", end_time - start_time, \"seconds\")\n",
        "print(\"Closest points:\", resultado)"
      ],
      "metadata": {
        "colab": {
          "base_uri": "https://localhost:8080/"
        },
        "id": "q8nOMpEtdPfi",
        "outputId": "09427ba0-3d34-416e-bda7-d2192c8b0985"
      },
      "execution_count": 12,
      "outputs": [
        {
          "output_type": "stream",
          "name": "stdout",
          "text": [
            "Time taken:  0.0074160099029541016 seconds\n",
            "Closest points: [(6608, 3528, 869), (6628, 3430, 615)]\n"
          ]
        }
      ]
    },
    {
      "cell_type": "markdown",
      "source": [
        "Se puede evidenciar que el costo computacional del algoritmo de Fuerza Bruta es $O(n^2)$, ya que el mismo posee 2 bucles anidados.\n",
        "\n",
        "Si nos centramos en el algoritmo Divide y Venceràs, la complejidad computacional es de $O(n \\log n)$. Debemos tener en cuenta en el caso anterior que los puntos, antes de ser comparados, se ordenan para mejorar el desempeño. La complejidad computacional logarítmica es característica en la recursividad."
      ],
      "metadata": {
        "id": "8oLlwwV2EpCs"
      }
    }
  ]
}