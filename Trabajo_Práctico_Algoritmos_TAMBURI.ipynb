{
  "nbformat": 4,
  "nbformat_minor": 0,
  "metadata": {
    "colab": {
      "provenance": [],
      "authorship_tag": "ABX9TyNnn5eWzAh5eXZNC7LVeDpG",
      "include_colab_link": true
    },
    "kernelspec": {
      "name": "python3",
      "display_name": "Python 3"
    },
    "language_info": {
      "name": "python"
    }
  },
  "cells": [
    {
      "cell_type": "markdown",
      "metadata": {
        "id": "view-in-github",
        "colab_type": "text"
      },
      "source": [
        "<a href=\"https://colab.research.google.com/github/DTAMBU/03MAIR_Algoritmos_de_Optimizacion_2023_2024/blob/main/Trabajo_Pr%C3%A1ctico_Algoritmos_TAMBURI.ipynb\" target=\"_parent\"><img src=\"https://colab.research.google.com/assets/colab-badge.svg\" alt=\"Open In Colab\"/></a>"
      ]
    },
    {
      "cell_type": "markdown",
      "metadata": {
        "id": "hVbXYX-RfPWh"
      },
      "source": [
        "# Algoritmos de optimización - Trabajo Práctico<br>\n",
        "Nombre y Apellidos: Damian Leandro Tamburi  <br>\n",
        "Url: https://github.com/DTAMBU/03MAIR_Algoritmos_de_Optimizacion_2023_2024/blob/main/Trabajo_Pr%C3%A1ctico_Algoritmos_TAMBURI.ipynb<br>\n",
        "Google Colab: https://colab.research.google.com/drive/19FnBQ-7W1ed7aPXX-n4on6Ncgxm8iljs <br>\n",
        "Problema:\n",
        ">1. Sesiones de Doblaje <br>\n",
        "\n",
        "Se precisa coordinar el doblaje de una película. Los actores del doblaje deben coincidir en las\n",
        "tomas en las que sus personajes aparecen juntos en las diferentes tomas. Los actores de\n",
        "doblaje cobran toda la misma cantidad por cada día que deben desplazarse hasta el estudio de\n",
        "grabación independientemente del número de tomas que se graben. No es posible grabar más\n",
        "de 6 tomas por día. El objetivo es planificar las sesiones por día de manera que el gasto por los\n",
        "servicios de los actores de doblaje sea el menor posible\n",
        "\n",
        "\n",
        "\n",
        "\n",
        "\n",
        "\n",
        "\n",
        "                                        "
      ]
    },
    {
      "cell_type": "code",
      "source": [
        "# Importar librerias necesarias\n",
        "import numpy as np\n",
        "import random\n",
        "import math\n",
        "import time\n",
        "from itertools import combinations"
      ],
      "metadata": {
        "id": "s98nBl36HlOr"
      },
      "execution_count": null,
      "outputs": []
    },
    {
      "cell_type": "markdown",
      "source": [
        "#Modelo\n",
        "- ¿Como represento el espacio de soluciones?\n",
        "- ¿Cual es la función objetivo?\n",
        "- ¿Como implemento las restricciones?"
      ],
      "metadata": {
        "id": "Sbo9IqQtpaHZ"
      }
    },
    {
      "cell_type": "markdown",
      "source": [
        "El espacio de soluciones se representa con la siguiente Matriz.\n",
        "\n",
        "Número de actores: 10\n",
        "Número de tomas : 30\n",
        "\n",
        "- 1 indica que el actor participa en la toma\n",
        "- 0 en caso contrario\n",
        "\n",
        "Cada fila representa la correspondiente toma y cada columna representa el actor."
      ],
      "metadata": {
        "id": "67p_vszBposu"
      }
    },
    {
      "cell_type": "code",
      "source": [
        "# Matriz de actores y tomas\n",
        "matrix = np.array([\n",
        "    [1, 1, 1, 1, 1, 1, 1, 0, 0, 0, 0],\n",
        "    [0, 0, 1, 1, 1, 0, 0, 0, 0, 0, 0],\n",
        "    [0, 1, 0, 0, 1, 0, 1, 0, 0, 0, 0],\n",
        "    [1, 1, 0, 0, 0, 0, 1, 1, 0, 0, 0],\n",
        "    [0, 1, 0, 1, 0, 0, 0, 1, 0, 0, 0],\n",
        "    [1, 1, 0, 1, 1, 0, 0, 0, 0, 0, 0],\n",
        "    [1, 1, 0, 1, 1, 0, 0, 0, 0, 0, 0],\n",
        "    [1, 1, 0, 0, 0, 1, 0, 0, 0, 0, 0],\n",
        "    [1, 1, 0, 1, 0, 0, 0, 0, 0, 0, 0],\n",
        "    [1, 1, 0, 0, 0, 1, 0, 0, 1, 0, 0],\n",
        "    [1, 1, 1, 0, 1, 0, 0, 1, 0, 0, 0],\n",
        "    [1, 1, 1, 1, 0, 1, 0, 0, 0, 0, 0],\n",
        "    [1, 0, 0, 1, 1, 0, 0, 0, 0, 0, 0],\n",
        "    [1, 0, 1, 0, 0, 1, 0, 0, 0, 0, 0],\n",
        "    [1, 1, 0, 0, 0, 0, 1, 0, 0, 0, 0],\n",
        "    [0, 0, 0, 1, 0, 0, 0, 0, 0, 1, 0],\n",
        "    [1, 0, 1, 0, 0, 0, 0, 0, 0, 0, 0],\n",
        "    [0, 0, 1, 0, 0, 1, 0, 0, 0, 0, 0],\n",
        "    [1, 0, 1, 0, 0, 0, 0, 0, 0, 0, 0],\n",
        "    [1, 0, 1, 1, 1, 0, 0, 0, 0, 0, 0],\n",
        "    [0, 0, 0, 0, 0, 1, 0, 1, 0, 0, 0],\n",
        "    [1, 1, 1, 1, 0, 0, 0, 0, 0, 0, 0],\n",
        "    [1, 0, 1, 0, 0, 0, 0, 0, 0, 0, 0],\n",
        "    [0, 0, 1, 0, 0, 1, 0, 0, 0, 0, 0],\n",
        "    [1, 1, 0, 1, 0, 0, 0, 0, 0, 1, 0],\n",
        "    [1, 0, 1, 0, 1, 0, 0, 0, 1, 0, 0],\n",
        "    [0, 0, 0, 1, 1, 0, 0, 0, 0, 0, 0],\n",
        "    [1, 0, 0, 1, 0, 0, 0, 0, 0, 0, 0],\n",
        "    [1, 0, 0, 0, 1, 1, 0, 0, 0, 0, 0],\n",
        "    [1, 0, 0, 1, 0, 0, 0, 0, 0, 0, 0]\n",
        "])"
      ],
      "metadata": {
        "id": "krRLm7HRS5pV"
      },
      "execution_count": null,
      "outputs": []
    },
    {
      "cell_type": "markdown",
      "source": [
        "La función de costo a minimizar se basa en:\n",
        "\n",
        "- Para cada día, se consideran todas las tomas que se realizarán.\n",
        "- Si un actor es necesario en más de una toma en un día específico, solo se cuenta una vez, ya que el actor cobra por día.\n",
        "- Se suman los actores necesarios para todas las tomas de cada día.\n",
        "- Finalmente, se suman estos totales diarios para obtener el costo total.\n"
      ],
      "metadata": {
        "id": "sqSXfveMIk9X"
      }
    },
    {
      "cell_type": "markdown",
      "source": [
        "En cuanto a las restricciones, se fijan 5 días de trabajo con 6 tomas cada día."
      ],
      "metadata": {
        "id": "KzyGlqTMIL7_"
      }
    },
    {
      "cell_type": "code",
      "metadata": {
        "id": "AiskKkzZfy4e"
      },
      "source": [
        "# Número de días y tomas por día\n",
        "days = 5\n",
        "takes_per_day = 6\n",
        "total_takes = matrix.shape[0]  # Número total de tomas"
      ],
      "execution_count": null,
      "outputs": []
    },
    {
      "cell_type": "markdown",
      "source": [
        "#Análisis\n",
        "- ¿Que complejidad tiene el problema?. Orden de complejidad y Contabilizar el espacio de soluciones"
      ],
      "metadata": {
        "id": "HZz52wOppp-U"
      }
    },
    {
      "cell_type": "markdown",
      "source": [
        "Estamos considerando las permutaciones de las 30 tomas en grupos de 6. El número de estas permutaciones se puede calcular como el número de formas de organizar las 30 tomas, dividido por el número de formas de organizar las 6 tomas dentro de cada grupo y el número de formas de organizar los 5 grupos. Según la fórmula de combinaciones, este número es:\n",
        "\n",
        "$$\n",
        "\\large \\frac{{30!}}{{(6!)^5 \\cdot 5!}} = 11423951396577720\n",
        "$$\n",
        "\n",
        "Esto significa que el algoritmo de fuerza bruta tendría que generar y evaluar un número extremadamente grande de soluciones candidatas, lo cual haría que el algoritmo fuera muy lento e impráctico."
      ],
      "metadata": {
        "id": "GXsY1hqIKwhb"
      }
    },
    {
      "cell_type": "code",
      "source": [
        "import math\n",
        "\n",
        "# Calcular el número de formas de dividir 30 tomas en 5 grupos de 6\n",
        "num_ways = math.factorial(30) / (math.factorial(6)**5 * math.factorial(5))\n",
        "\n",
        "# Imprimir el número en notación decimal\n",
        "print(format(num_ways, '.0f'))"
      ],
      "metadata": {
        "id": "CZ-5BmpspttV",
        "colab": {
          "base_uri": "https://localhost:8080/"
        },
        "outputId": "75a572be-a8f1-461a-8e75-50bdc347e775"
      },
      "execution_count": null,
      "outputs": [
        {
          "output_type": "stream",
          "name": "stdout",
          "text": [
            "11423951396577720\n"
          ]
        }
      ]
    },
    {
      "cell_type": "markdown",
      "source": [
        "\n",
        "En cuanto al orden de complejidad, podemos indicar que el mismo es:\n",
        "\n",
        "$$\n",
        "\\large O(n!)\n",
        "$$"
      ],
      "metadata": {
        "id": "IMgU9EvHApBk"
      }
    },
    {
      "cell_type": "markdown",
      "source": [
        "#Diseño\n",
        "- ¿Que técnica utilizo? ¿Por qué?\n",
        "\n",
        "A continuación se especifican las técnicas utilizadas. Finalmente se hace un resumen con los resultados."
      ],
      "metadata": {
        "id": "ixEJUwH_pv7M"
      }
    },
    {
      "cell_type": "markdown",
      "source": [
        "##Busqueda Aleatoria"
      ],
      "metadata": {
        "id": "QCgvaIhOOH-Q"
      }
    },
    {
      "cell_type": "markdown",
      "source": [
        "Como es sabido, la busqueda aleatoria no genera buenas soluciones, sin embargo, la utilizaremos para entender el orden de magnitud que tiene la función de coste que debemos minimizar."
      ],
      "metadata": {
        "id": "glR_ufipOqvH"
      }
    },
    {
      "cell_type": "code",
      "source": [
        "# Número de veces que se ejecutará el algoritmo\n",
        "num_runs = 10000\n",
        "\n",
        "# Inicializar el mejor horario y el costo mínimo\n",
        "# Estos se actualizarán durante la ejecución del algoritmo\n",
        "best_schedule = None\n",
        "min_cost = float('inf')\n",
        "\n",
        "# Comenzar a medir el tiempo\n",
        "start_time = time.time()\n",
        "\n",
        "# Ejecutar el algoritmo num_runs veces\n",
        "# Cada ejecución genera un horario diferente\n",
        "for _ in range(num_runs):\n",
        "    # Inicializar el horario y el conjunto de tomas programadas\n",
        "    # El horario es una lista de listas, donde cada lista representa un día\n",
        "    # scheduled_takes es un conjunto que almacena las tomas que ya han sido programadas\n",
        "    schedule = []\n",
        "    scheduled_takes = set()\n",
        "\n",
        "    # Inicializar el costo\n",
        "    # El costo representa la cantidad de conflictos en el horario\n",
        "    cost = 0\n",
        "\n",
        "    # Generar el horario\n",
        "    # Para cada día, seleccionamos takes_per_day tomas de las tomas no programadas\n",
        "    for _ in range(days):\n",
        "        day_schedule = []\n",
        "        for _ in range(takes_per_day):\n",
        "            # Seleccionar una toma aleatoria de las tomas no programadas\n",
        "            unscheduled_takes = [i for i in range(total_takes) if i not in scheduled_takes]\n",
        "            take = random.choice(unscheduled_takes)\n",
        "\n",
        "            # Añadir la toma al horario del día y al conjunto de tomas programadas\n",
        "            day_schedule.append(take)\n",
        "            scheduled_takes.add(take)\n",
        "\n",
        "        # Añadir el horario del día al horario total\n",
        "        schedule.append(day_schedule)\n",
        "\n",
        "        # Calcular el costo del día\n",
        "        # El costo del día es la cantidad de conflictos en ese día\n",
        "        day_cost = np.any(matrix[np.array(day_schedule)], axis=0).sum()\n",
        "        cost += day_cost\n",
        "\n",
        "    # Si el costo es menor que el costo mínimo, actualizar el mejor horario y el costo mínimo\n",
        "    # Esto garantiza que siempre tengamos el horario con el costo mínimo\n",
        "    if cost < min_cost:\n",
        "        best_schedule = schedule\n",
        "        min_cost = cost\n",
        "\n",
        "# Detener la medición del tiempo\n",
        "end_time = time.time()\n",
        "\n",
        "# Calcular el tiempo de ejecución\n",
        "execution_time = end_time - start_time\n",
        "\n",
        "# Imprimir el mejor horario\n",
        "# El mejor horario es el horario con el costo mínimo\n",
        "for i, day in enumerate(best_schedule):\n",
        "    print(f'Día {i+1}: tomas {tuple(take + 1 for take in day)}')\n",
        "\n",
        "# Imprimir el costo mínimo\n",
        "# El costo mínimo es el costo del mejor horario\n",
        "print(f'Costo mínimo: {min_cost}')\n",
        "\n",
        "# Imprimir el tiempo de ejecución\n",
        "print(f'Tiempo de ejecución: {execution_time} segundos')"
      ],
      "metadata": {
        "colab": {
          "base_uri": "https://localhost:8080/"
        },
        "id": "u02rhbqHYZYD",
        "outputId": "d42e6ce3-7206-4074-f025-ec168cfef7c2"
      },
      "execution_count": null,
      "outputs": [
        {
          "output_type": "stream",
          "name": "stdout",
          "text": [
            "Día 1: tomas (14, 29, 22, 27, 10, 26)\n",
            "Día 2: tomas (23, 24, 2, 13, 18, 20)\n",
            "Día 3: tomas (7, 28, 21, 5, 6, 8)\n",
            "Día 4: tomas (15, 11, 19, 3, 12, 1)\n",
            "Día 5: tomas (16, 25, 9, 17, 4, 30)\n",
            "Costo mínimo: 33\n",
            "Tiempo de ejecución: 2.3420045375823975 segundos\n"
          ]
        }
      ]
    },
    {
      "cell_type": "markdown",
      "source": [
        "##Busqueda Tabu"
      ],
      "metadata": {
        "id": "OEGcXuz_MfEl"
      }
    },
    {
      "cell_type": "markdown",
      "source": [
        "\n",
        "\n",
        "\n",
        "- Inicialización: Se establecen el número de iteraciones (num_iterations) y el tamaño máximo de la lista tabú (tabu_size).\n",
        "\n",
        "- Generación del horario inicial: Se crea una lista de todas las tomas (all_takes) y se mezcla aleatoriamente. Luego, se divide esta lista en varios días, cada día con un número específico de tomas (takes_per_day). Este es el horario inicial (schedule).\n",
        "\n",
        "- Cálculo del costo inicial: El costo es la suma de los conflictos en cada día del horario. Un conflicto ocurre cuando dos tomas no pueden ocurrir el mismo día. El costo inicial es la suma de los conflictos en el horario inicial.\n",
        "\n",
        "- Inicialización del mejor costo y el mejor horario: Al principio, el mejor costo es el costo inicial y el mejor horario es el horario inicial.\n",
        "\n",
        "- Inicialización de la lista tabú: La lista tabú es una lista de movimientos que no se deben realizar. Al principio, la lista tabú está vacía.\n",
        "\n",
        "- Búsqueda tabú: Se realiza una búsqueda tabú iterando num_iterations veces. En cada iteración, se busca el mejor movimiento (intercambio de dos tomas) que no esté en la lista tabú y que reduzca el costo. Luego, se realiza este movimiento, se actualiza el costo y el horario, y se añade el movimiento a la lista tabú. Si la lista tabú excede su tamaño máximo, se elimina el movimiento más antiguo. Si el costo después de realizar el movimiento es menor que el mejor costo, se actualiza el mejor costo y el mejor horario.\n",
        "\n",
        "- Al final, se imprime el mejor horario y el mejor costo.\n"
      ],
      "metadata": {
        "id": "znbjLn3QNorE"
      }
    },
    {
      "cell_type": "code",
      "source": [
        "num_iterations = 500  # Número de iteraciones que realizará la búsqueda tabú\n",
        "tabu_size = 50  # Tamaño máximo de la lista tabú\n",
        "\n",
        "# Comenzar a medir el tiempo\n",
        "start_time = time.time()\n",
        "\n",
        "# Generar un horario inicial aleatorio\n",
        "all_takes = list(range(total_takes))  # Crear una lista de todas las tomas\n",
        "random.shuffle(all_takes)  # Mezclar la lista de tomas\n",
        "# Dividir la lista de tomas en días, cada día con un número específico de tomas\n",
        "schedule = [all_takes[i:i+takes_per_day] for i in range(0, total_takes, takes_per_day)]\n",
        "\n",
        "# Calcular el costo inicial\n",
        "cost = sum(np.any(matrix[day], axis=0).sum() for day in schedule)\n",
        "\n",
        "# Inicializar el mejor costo y el mejor horario\n",
        "best_cost = cost  # El mejor costo encontrado hasta ahora\n",
        "best_schedule = schedule  # El mejor horario encontrado hasta ahora\n",
        "\n",
        "# Inicializar la lista tabú\n",
        "tabu_list = []  # Lista de movimientos que no se deben realizar\n",
        "\n",
        "# Búsqueda tabú: iterar num_iterations veces\n",
        "for _ in range(num_iterations):\n",
        "    # Encontrar el mejor movimiento (intercambio de dos tomas) que no esté en la lista tabú\n",
        "    best_move = None  # El mejor movimiento encontrado en esta iteración\n",
        "    best_move_cost = float('inf')  # El costo del mejor movimiento encontrado en esta iteración\n",
        "    # Iterar sobre todos los pares de tomas en el horario\n",
        "    for i in range(days):\n",
        "        for j in range(takes_per_day):\n",
        "            for k in range(days):\n",
        "                for l in range(takes_per_day):\n",
        "                    # Intercambiar dos tomas y calcular el nuevo costo\n",
        "                    new_schedule = [list(day) for day in schedule]  # Crear una copia del horario actual\n",
        "                    # Intercambiar dos tomas en el nuevo horario\n",
        "                    new_schedule[i][j], new_schedule[k][l] = new_schedule[k][l], new_schedule[i][j]\n",
        "                    # Calcular el costo del nuevo horario\n",
        "                    new_cost = sum(np.any(matrix[day], axis=0).sum() for day in new_schedule)\n",
        "\n",
        "                    # Si el nuevo costo es menor y el movimiento no está en la lista tabú, actualizar el mejor movimiento\n",
        "                    if new_cost < best_move_cost and (i, j, k, l) not in tabu_list:\n",
        "                        best_move = (i, j, k, l)\n",
        "                        best_move_cost = new_cost\n",
        "\n",
        "    # Realizar el mejor movimiento y actualizar el costo y el horario\n",
        "    i, j, k, l = best_move  # Desempaquetar el mejor movimiento\n",
        "    schedule[i][j], schedule[k][l] = schedule[k][l], schedule[i][j]  # Realizar el mejor movimiento\n",
        "    cost = best_move_cost  # Actualizar el costo\n",
        "\n",
        "    # Añadir el movimiento a la lista tabú\n",
        "    tabu_list.append(best_move)  # Añadir el mejor movimiento a la lista tabú\n",
        "    # Si la lista tabú excede su tamaño máximo, eliminar el movimiento más antiguo\n",
        "    if len(tabu_list) > tabu_size:\n",
        "        tabu_list.pop(0)\n",
        "\n",
        "    # Si el costo es menor que el mejor costo, actualizar el mejor costo y el mejor horario\n",
        "    if cost < best_cost:\n",
        "        best_cost = cost  # Actualizar el mejor costo\n",
        "        best_schedule = [list(day) for day in schedule]  # Actualizar el mejor horario\n",
        "\n",
        "# Detener la medición del tiempo\n",
        "end_time = time.time()\n",
        "\n",
        "# Calcular el tiempo de ejecución\n",
        "execution_time = end_time - start_time\n",
        "\n",
        "# Imprimir el mejor horario\n",
        "for i, day in enumerate(best_schedule):\n",
        "    print(f'Día {i+1}: tomas {tuple(take + 1 for take in day)}')\n",
        "\n",
        "# Imprimir el mejor costo\n",
        "print(f'Mejor costo: {best_cost}')\n",
        "\n",
        "# Imprimir el tiempo de ejecución\n",
        "print(f'Tiempo de ejecución: {execution_time} segundos')"
      ],
      "metadata": {
        "colab": {
          "base_uri": "https://localhost:8080/"
        },
        "id": "sZ4A7cmeM_Qg",
        "outputId": "fa074897-89f1-4850-9d61-1f97b90f7333"
      },
      "execution_count": null,
      "outputs": [
        {
          "output_type": "stream",
          "name": "stdout",
          "text": [
            "Día 1: tomas (25, 28, 13, 6, 16, 27)\n",
            "Día 2: tomas (22, 20, 30, 5, 7, 11)\n",
            "Día 3: tomas (26, 10, 2, 1, 12, 9)\n",
            "Día 4: tomas (14, 18, 23, 24, 17, 19)\n",
            "Día 5: tomas (15, 3, 21, 29, 4, 8)\n",
            "Mejor costo: 28\n",
            "Tiempo de ejecución: 32.01824903488159 segundos\n"
          ]
        }
      ]
    },
    {
      "cell_type": "markdown",
      "source": [
        "El algoritmo de búsqueda tabú es particularmente útil para resolver problemas de optimización combinatoria por algunas razones:\n",
        "\n",
        "- Exploración y explotación: La búsqueda tabú equilibra entre la exploración de nuevas soluciones en el espacio de búsqueda y la explotación de las mejores soluciones encontradas hasta ahora. Esto puede ayudar a evitar quedarse atascado en soluciones locales subóptimas.\n",
        "\n",
        "- Memoria: La lista tabú actúa como una memoria a corto plazo que almacena los movimientos recientes. Esto evita que el algoritmo repita los mismos movimientos y caiga en ciclos infinitos, permitiendo una exploración más diversa del espacio de búsqueda.\n",
        "\n",
        "- Soluciones de alta calidad: Aunque la búsqueda tabú no garantiza encontrar la solución óptima global, en la práctica a menudo produce soluciones de alta calidad.\n",
        "\n"
      ],
      "metadata": {
        "id": "OFhZObn2N3_m"
      }
    },
    {
      "cell_type": "markdown",
      "source": [
        "##Recocido Simulado"
      ],
      "metadata": {
        "id": "VpxdqtbGPVSC"
      }
    },
    {
      "cell_type": "markdown",
      "source": [
        "\n",
        "\n",
        " - Inicialización: El algoritmo comienza con una solución inicial aleatoria y una “temperatura” alta.\n",
        "\n",
        "- Generación de nuevas soluciones: En cada iteración, el algoritmo genera una nueva solución a partir de la solución actual realizando un pequeño cambio aleatorio. En tu caso, el cambio es un intercambio de dos tomas en el horario.\n",
        "\n",
        "- Decisión de aceptación: La nueva solución se acepta o se rechaza en función de su costo y la temperatura actual. Si la nueva solución tiene un costo menor (es mejor), se acepta. Si tiene un costo mayor (es peor), se puede aceptar con una probabilidad que disminuye con la diferencia de costo y la temperatura. Esto permite que el algoritmo acepte soluciones peores al principio (cuando la temperatura es alta) para escapar de los óptimos locales, pero se vuelve cada vez más selectivo a medida que la temperatura disminuye.\n",
        "\n",
        "- Enfriamiento: Después de un cierto número de iteraciones, la temperatura se reduce según una tasa de enfriamiento predefinida. Esto simula el “enfriamiento” en el proceso de recocido.\n",
        "\n",
        "- Terminación: El algoritmo termina después de un número predefinido de iteraciones o cuando la temperatura cae por debajo de un cierto umbral. La mejor solución encontrada durante la ejecución del algoritmo se devuelve como resultado.\n"
      ],
      "metadata": {
        "id": "FJqMbn8pQAmG"
      }
    },
    {
      "cell_type": "markdown",
      "source": [
        "En este código se utiliza una función de enfriamiento exponencial: $$ T_{\\text{{nueva}}} = T_{\\text{{actual}}} \\times \\text{{tasa de enfriamiento}} $$\n",
        "\n",
        "Donde:\n",
        "\n",
        "- $T_{\\text{{nueva}}}$​ es la temperatura después de la iteración actual.\n",
        "- $ T_{\\text{{actual}}} $  es la temperatura en la iteración actual.\n",
        "\n",
        "- $ \\text{{tasa de enfriamiento}} $ es un valor constante menor que 1.\n",
        "\n",
        "En cada iteración del algoritmo, la temperatura se multiplica por la tasa de enfriamiento, lo que reduce la temperatura de manera exponencial a medida que el algoritmo avanza."
      ],
      "metadata": {
        "id": "1M97h0CBREkl"
      }
    },
    {
      "cell_type": "code",
      "source": [
        "# Parámetros del recocido simulado\n",
        "num_iterations = 10000  # Número de iteraciones que realizará el recocido simulado\n",
        "initial_temperature = 1000  # Temperatura inicial para el recocido simulado\n",
        "cooling_rate = 0.99  # Tasa de enfriamiento para el recocido simulado\n",
        "\n",
        "# Generar un horario inicial aleatorio\n",
        "all_takes = list(range(total_takes))  # Crear una lista de todas las tomas\n",
        "random.shuffle(all_takes)  # Mezclar la lista de tomas\n",
        "# Dividir la lista de tomas en días, cada día con un número específico de tomas\n",
        "schedule = [all_takes[i:i+takes_per_day] for i in range(0, total_takes, takes_per_day)]\n",
        "\n",
        "# Calcular el costo inicial\n",
        "# El costo es la suma de los conflictos en cada día del horario\n",
        "cost = sum(np.any(matrix[day], axis=0).sum() for day in schedule)\n",
        "\n",
        "# Inicializar el mejor costo y el mejor horario\n",
        "# Estos se actualizarán durante la ejecución del algoritmo\n",
        "best_cost = cost  # El mejor costo encontrado hasta ahora\n",
        "best_schedule = schedule  # El mejor horario encontrado hasta ahora\n",
        "\n",
        "# Comenzar a medir el tiempo\n",
        "start_time = time.time()\n",
        "\n",
        "# Recocido simulado: iterar num_iterations veces\n",
        "temperature = initial_temperature  # Establecer la temperatura inicial\n",
        "for _ in range(num_iterations):\n",
        "    # Seleccionar dos tomas aleatorias para intercambiar\n",
        "    i, j = random.randint(0, days-1), random.randint(0, takes_per_day-1)\n",
        "    k, l = random.randint(0, days-1), random.randint(0, takes_per_day-1)\n",
        "\n",
        "    # Intercambiar dos tomas y calcular el nuevo costo\n",
        "    new_schedule = [list(day) for day in schedule]  # Crear una copia del horario actual\n",
        "    new_schedule[i][j], new_schedule[k][l] = new_schedule[k][l], new_schedule[i][j]  # Intercambiar dos tomas en el nuevo horario\n",
        "    new_cost = sum(np.any(matrix[day], axis=0).sum() for day in new_schedule)  # Calcular el costo del nuevo horario\n",
        "\n",
        "    # Si el nuevo costo es menor o si se acepta una solución peor con cierta probabilidad, actualizar el costo y el horario\n",
        "    # La probabilidad de aceptar una solución peor disminuye con la temperatura y la diferencia de costo\n",
        "    if new_cost < cost or random.random() < math.exp((cost - new_cost) / temperature):\n",
        "        cost = new_cost\n",
        "        schedule = new_schedule\n",
        "\n",
        "    # Si el costo es menor que el mejor costo, actualizar el mejor costo y el mejor horario\n",
        "    if cost < best_cost:\n",
        "        best_cost = cost\n",
        "        best_schedule = [list(day) for day in schedule]\n",
        "\n",
        "    # Enfriar la temperatura\n",
        "    temperature *= cooling_rate\n",
        "\n",
        "# Detener la medición del tiempo\n",
        "end_time = time.time()\n",
        "\n",
        "# Calcular el tiempo de ejecución\n",
        "execution_time = end_time - start_time\n",
        "\n",
        "# Imprimir el mejor horario\n",
        "for i, day in enumerate(best_schedule):\n",
        "    print(f'Día {i+1}: tomas {tuple(take + 1 for take in day)}')\n",
        "\n",
        "# Imprimir el mejor costo\n",
        "print(f'Mejor costo: {best_cost}')\n",
        "\n",
        "# Imprimir el tiempo de ejecución\n",
        "print(f'Tiempo de ejecución: {execution_time} segundos')"
      ],
      "metadata": {
        "colab": {
          "base_uri": "https://localhost:8080/"
        },
        "id": "N6wK3z1xPX13",
        "outputId": "e1d7519f-bce5-4047-8da2-680721cec6ba"
      },
      "execution_count": null,
      "outputs": [
        {
          "output_type": "stream",
          "name": "stdout",
          "text": [
            "Día 1: tomas (3, 2, 20, 1, 12, 22)\n",
            "Día 2: tomas (25, 4, 9, 5, 15, 16)\n",
            "Día 3: tomas (18, 14, 24, 17, 23, 19)\n",
            "Día 4: tomas (8, 21, 11, 29, 10, 26)\n",
            "Día 5: tomas (13, 7, 30, 27, 6, 28)\n",
            "Mejor costo: 27\n",
            "Tiempo de ejecución: 1.0696191787719727 segundos\n"
          ]
        }
      ]
    },
    {
      "cell_type": "markdown",
      "source": [
        "- El recocido simulado es un algoritmo muy flexible que se puede adaptar a muchos tipos diferentes de problemas de optimización. Se necesita definir una función de “costo” que pueda evaluar qué tan buena (o mala) es una solución, y una forma de generar nuevas soluciones a partir de una solución existente.\n",
        "\n",
        "- Aunque el recocido simulado no garantiza encontrar la solución óptima global, a menudo encuentra soluciones muy buenas en un tiempo razonable. Esto puede ser muy útil cuando el número total de soluciones posibles es demasiado grande para examinar cada una de ellas individualmente."
      ],
      "metadata": {
        "id": "a4NhQ6p6QPZ1"
      }
    },
    {
      "cell_type": "markdown",
      "source": [
        "##Análisis de resultados"
      ],
      "metadata": {
        "id": "caacOoJ0tSZX"
      }
    },
    {
      "cell_type": "markdown",
      "source": [
        "Se realizó una busqueda aleatoria para entender el orden de magnitud en la función de coste. Se pudo verificar que tanto Busqueda Tabu como Recocido Simulado lográn obtener buenos resultados. Sin embargo, se pudo comprobar que el código de Recodido Simulado se ejecuta en un tiempo considerablemente menor."
      ],
      "metadata": {
        "id": "6hIsDIMaOWRL"
      }
    }
  ]
}